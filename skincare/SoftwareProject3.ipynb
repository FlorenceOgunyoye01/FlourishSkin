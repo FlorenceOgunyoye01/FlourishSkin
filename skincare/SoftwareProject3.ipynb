{
 "cells": [
  {
   "cell_type": "code",
   "execution_count": 31,
   "metadata": {},
   "outputs": [],
   "source": [
    "import pandas as pd\n",
    "import numpy as np\n",
    "import re\n",
    "from sklearn.manifold import TSNE\n",
    "from functools import reduce\n",
    "import matplotlib.pyplot as plt\n",
    "import seaborn as sns\n",
    "import plotly.express as px\n",
    "import plotly.graph_objects as go\n",
    "%matplotlib inline\n",
    "import warnings\n",
    "warnings.filterwarnings('ignore')\n",
    "from sklearn.preprocessing import LabelEncoder\n",
    "from sklearn.feature_extraction.text import CountVectorizer\n",
    "from sklearn.model_selection import train_test_split\n",
    "from sklearn.preprocessing import StandardScaler\n",
    "from sklearn.compose import make_column_transformer\n",
    "from sklearn.pipeline import make_pipeline\n",
    "from sklearn.preprocessing import OneHotEncoder\n",
    "from sklearn.linear_model import LogisticRegression\n",
    "from sklearn.model_selection import GridSearchCV, RandomizedSearchCV\n",
    "from sklearn.model_selection import cross_val_score\n",
    "from sklearn.metrics import classification_report, confusion_matrix, accuracy_score\n",
    "\n",
    "random_state = 1\n",
    "\n",
    "theme = [\"#d2fbd4\",\"#a5dbc2\",\"#7bbcb0\",\"#559c9e\",\"#3a7c89\",\"#235d72\",\"#123f5a\"]"
   ]
  },
  {
   "cell_type": "code",
   "execution_count": 32,
   "metadata": {},
   "outputs": [
    {
     "data": {
      "text/html": [
       "<div>\n",
       "<style scoped>\n",
       "    .dataframe tbody tr th:only-of-type {\n",
       "        vertical-align: middle;\n",
       "    }\n",
       "\n",
       "    .dataframe tbody tr th {\n",
       "        vertical-align: top;\n",
       "    }\n",
       "\n",
       "    .dataframe thead th {\n",
       "        text-align: right;\n",
       "    }\n",
       "</style>\n",
       "<table border=\"1\" class=\"dataframe\">\n",
       "  <thead>\n",
       "    <tr style=\"text-align: right;\">\n",
       "      <th></th>\n",
       "      <th>product_name</th>\n",
       "      <th>brand</th>\n",
       "      <th>product_url</th>\n",
       "      <th>product_type</th>\n",
       "      <th>ingredients</th>\n",
       "      <th>price</th>\n",
       "      <th>contents</th>\n",
       "    </tr>\n",
       "  </thead>\n",
       "  <tbody>\n",
       "    <tr>\n",
       "      <th>0</th>\n",
       "      <td>Acorelle Pure Harvest Body Perfume - 100ml</td>\n",
       "      <td>Acorelle</td>\n",
       "      <td>https://www.lookfantastic.com/acorelle-pure-ha...</td>\n",
       "      <td>Mist</td>\n",
       "      <td>Alcohol, Aqua, Glycerin, Fragrance, Limonene, ...</td>\n",
       "      <td>10.0</td>\n",
       "      <td>100ml</td>\n",
       "    </tr>\n",
       "    <tr>\n",
       "      <th>1</th>\n",
       "      <td>Aesop Parsley Seed Anti-Oxidant Eye Cream 10ml</td>\n",
       "      <td>Aesop</td>\n",
       "      <td>https://www.lookfantastic.com/aesop-parsley-se...</td>\n",
       "      <td>Eye Care</td>\n",
       "      <td>Aloe Barbadensis Leaf Juice, Water, PEG-60 Alm...</td>\n",
       "      <td>63.0</td>\n",
       "      <td>10ml</td>\n",
       "    </tr>\n",
       "    <tr>\n",
       "      <th>2</th>\n",
       "      <td>Aesop Parsley Seed Anti-Oxidant Eye Serum 15ml</td>\n",
       "      <td>Aesop</td>\n",
       "      <td>https://www.lookfantastic.com/aesop-parsley-se...</td>\n",
       "      <td>Eye Care</td>\n",
       "      <td>Aloe Babedensis Lead Juice, Water (Aqua), PEG ...</td>\n",
       "      <td>57.0</td>\n",
       "      <td>15ml</td>\n",
       "    </tr>\n",
       "    <tr>\n",
       "      <th>3</th>\n",
       "      <td>Aesop Amazing Face Cleanser 200ml</td>\n",
       "      <td>Aesop</td>\n",
       "      <td>https://www.lookfantastic.com/aesop-amazing-fa...</td>\n",
       "      <td>Cleanser</td>\n",
       "      <td>Water, Cocamidopropyl Belaine, Sea Salt, Glyce...</td>\n",
       "      <td>35.0</td>\n",
       "      <td>200ml</td>\n",
       "    </tr>\n",
       "    <tr>\n",
       "      <th>4</th>\n",
       "      <td>Aesop Animal Body Wash 500ml</td>\n",
       "      <td>Aesop</td>\n",
       "      <td>https://www.lookfantastic.com/aesop-animal-bod...</td>\n",
       "      <td>Body Wash</td>\n",
       "      <td>Water (Aqua), Sodium Laureth Sulfate, Propylen...</td>\n",
       "      <td>27.0</td>\n",
       "      <td>500ml</td>\n",
       "    </tr>\n",
       "    <tr>\n",
       "      <th>...</th>\n",
       "      <td>...</td>\n",
       "      <td>...</td>\n",
       "      <td>...</td>\n",
       "      <td>...</td>\n",
       "      <td>...</td>\n",
       "      <td>...</td>\n",
       "      <td>...</td>\n",
       "    </tr>\n",
       "    <tr>\n",
       "      <th>1130</th>\n",
       "      <td>Zelens Triple Action Advanced Eye Cream</td>\n",
       "      <td>Zelens</td>\n",
       "      <td>https://www.lookfantastic.com/zelens-triple-ac...</td>\n",
       "      <td>Eye Care</td>\n",
       "      <td>Aqua (Water), Dimethicone, Cyclopentasiloxane,...</td>\n",
       "      <td>80.0</td>\n",
       "      <td>15ml</td>\n",
       "    </tr>\n",
       "    <tr>\n",
       "      <th>1131</th>\n",
       "      <td>Zelens Youth Concentrate Supreme Age-Defying S...</td>\n",
       "      <td>Zelens</td>\n",
       "      <td>https://www.lookfantastic.com/zelens-youth-con...</td>\n",
       "      <td>Serum</td>\n",
       "      <td>Water (Aqua), Caprylic/Capric Triglyceride, Hy...</td>\n",
       "      <td>160.0</td>\n",
       "      <td>30ml</td>\n",
       "    </tr>\n",
       "    <tr>\n",
       "      <th>1132</th>\n",
       "      <td>Zelens Z Hyaluron Hyaluronic Acid Complex Seru...</td>\n",
       "      <td>Zelens</td>\n",
       "      <td>https://www.lookfantastic.com/zelens-z-hyaluro...</td>\n",
       "      <td>Serum</td>\n",
       "      <td>Aqua (Water), Glycerin, Propanediol, Hydrolyze...</td>\n",
       "      <td>55.0</td>\n",
       "      <td>30ml</td>\n",
       "    </tr>\n",
       "    <tr>\n",
       "      <th>1133</th>\n",
       "      <td>Zelens PROVITAMIN D Fortifying Facial Mist 50ml</td>\n",
       "      <td>Zelens</td>\n",
       "      <td>https://www.lookfantastic.com/zelens-provitami...</td>\n",
       "      <td>Mist</td>\n",
       "      <td>Aqua (Water), Propanediol, Glycerin, Polyglyce...</td>\n",
       "      <td>55.0</td>\n",
       "      <td>50ml</td>\n",
       "    </tr>\n",
       "    <tr>\n",
       "      <th>1134</th>\n",
       "      <td>Zelens Z Balance Prebiotic and Probiotic Facia...</td>\n",
       "      <td>Zelens</td>\n",
       "      <td>https://www.lookfantastic.com/zelens-z-balance...</td>\n",
       "      <td>Mist</td>\n",
       "      <td>Aqua, Butylene Glycol, Sodium Lactate, Lactoba...</td>\n",
       "      <td>48.0</td>\n",
       "      <td>50ml</td>\n",
       "    </tr>\n",
       "  </tbody>\n",
       "</table>\n",
       "<p>1135 rows × 7 columns</p>\n",
       "</div>"
      ],
      "text/plain": [
       "                                           product_name     brand  \\\n",
       "0            Acorelle Pure Harvest Body Perfume - 100ml  Acorelle   \n",
       "1        Aesop Parsley Seed Anti-Oxidant Eye Cream 10ml     Aesop   \n",
       "2        Aesop Parsley Seed Anti-Oxidant Eye Serum 15ml     Aesop   \n",
       "3                     Aesop Amazing Face Cleanser 200ml     Aesop   \n",
       "4                          Aesop Animal Body Wash 500ml     Aesop   \n",
       "...                                                 ...       ...   \n",
       "1130            Zelens Triple Action Advanced Eye Cream    Zelens   \n",
       "1131  Zelens Youth Concentrate Supreme Age-Defying S...    Zelens   \n",
       "1132  Zelens Z Hyaluron Hyaluronic Acid Complex Seru...    Zelens   \n",
       "1133    Zelens PROVITAMIN D Fortifying Facial Mist 50ml    Zelens   \n",
       "1134  Zelens Z Balance Prebiotic and Probiotic Facia...    Zelens   \n",
       "\n",
       "                                            product_url product_type  \\\n",
       "0     https://www.lookfantastic.com/acorelle-pure-ha...         Mist   \n",
       "1     https://www.lookfantastic.com/aesop-parsley-se...     Eye Care   \n",
       "2     https://www.lookfantastic.com/aesop-parsley-se...     Eye Care   \n",
       "3     https://www.lookfantastic.com/aesop-amazing-fa...     Cleanser   \n",
       "4     https://www.lookfantastic.com/aesop-animal-bod...    Body Wash   \n",
       "...                                                 ...          ...   \n",
       "1130  https://www.lookfantastic.com/zelens-triple-ac...     Eye Care   \n",
       "1131  https://www.lookfantastic.com/zelens-youth-con...        Serum   \n",
       "1132  https://www.lookfantastic.com/zelens-z-hyaluro...        Serum   \n",
       "1133  https://www.lookfantastic.com/zelens-provitami...         Mist   \n",
       "1134  https://www.lookfantastic.com/zelens-z-balance...         Mist   \n",
       "\n",
       "                                            ingredients  price contents  \n",
       "0     Alcohol, Aqua, Glycerin, Fragrance, Limonene, ...   10.0    100ml  \n",
       "1     Aloe Barbadensis Leaf Juice, Water, PEG-60 Alm...   63.0     10ml  \n",
       "2     Aloe Babedensis Lead Juice, Water (Aqua), PEG ...   57.0     15ml  \n",
       "3     Water, Cocamidopropyl Belaine, Sea Salt, Glyce...   35.0    200ml  \n",
       "4     Water (Aqua), Sodium Laureth Sulfate, Propylen...   27.0    500ml  \n",
       "...                                                 ...    ...      ...  \n",
       "1130  Aqua (Water), Dimethicone, Cyclopentasiloxane,...   80.0     15ml  \n",
       "1131  Water (Aqua), Caprylic/Capric Triglyceride, Hy...  160.0     30ml  \n",
       "1132  Aqua (Water), Glycerin, Propanediol, Hydrolyze...   55.0     30ml  \n",
       "1133  Aqua (Water), Propanediol, Glycerin, Polyglyce...   55.0     50ml  \n",
       "1134  Aqua, Butylene Glycol, Sodium Lactate, Lactoba...   48.0     50ml  \n",
       "\n",
       "[1135 rows x 7 columns]"
      ]
     },
     "execution_count": 32,
     "metadata": {},
     "output_type": "execute_result"
    }
   ],
   "source": [
    "cosmetic = pd.read_csv(r\"C:\\Users\\flore\\Downloads\\skincare\\skincare_prepared.csv\", sep=\",\")\n",
    "cosmetic"
   ]
  },
  {
   "cell_type": "code",
   "execution_count": 33,
   "metadata": {},
   "outputs": [
    {
     "data": {
      "text/plain": [
       "0"
      ]
     },
     "execution_count": 33,
     "metadata": {},
     "output_type": "execute_result"
    }
   ],
   "source": [
    "cosmetic['contents'].isna().sum()"
   ]
  },
  {
   "cell_type": "code",
   "execution_count": 34,
   "metadata": {},
   "outputs": [
    {
     "data": {
      "text/html": [
       "<div>\n",
       "<style scoped>\n",
       "    .dataframe tbody tr th:only-of-type {\n",
       "        vertical-align: middle;\n",
       "    }\n",
       "\n",
       "    .dataframe tbody tr th {\n",
       "        vertical-align: top;\n",
       "    }\n",
       "\n",
       "    .dataframe thead th {\n",
       "        text-align: right;\n",
       "    }\n",
       "</style>\n",
       "<table border=\"1\" class=\"dataframe\">\n",
       "  <thead>\n",
       "    <tr style=\"text-align: right;\">\n",
       "      <th></th>\n",
       "      <th>product_name</th>\n",
       "      <th>brand</th>\n",
       "      <th>product_url</th>\n",
       "      <th>product_type</th>\n",
       "      <th>ingredients</th>\n",
       "      <th>price</th>\n",
       "      <th>contents</th>\n",
       "    </tr>\n",
       "  </thead>\n",
       "  <tbody>\n",
       "    <tr>\n",
       "      <th>0</th>\n",
       "      <td>Acorelle Pure Harvest Body Perfume - 100ml</td>\n",
       "      <td>Acorelle</td>\n",
       "      <td>https://www.lookfantastic.com/acorelle-pure-ha...</td>\n",
       "      <td>Mist</td>\n",
       "      <td>Alcohol, Aqua, Glycerin, Fragrance, Limonene, ...</td>\n",
       "      <td>10.0</td>\n",
       "      <td>100</td>\n",
       "    </tr>\n",
       "    <tr>\n",
       "      <th>1</th>\n",
       "      <td>Aesop Parsley Seed Anti-Oxidant Eye Cream 10ml</td>\n",
       "      <td>Aesop</td>\n",
       "      <td>https://www.lookfantastic.com/aesop-parsley-se...</td>\n",
       "      <td>Eye Care</td>\n",
       "      <td>Aloe Barbadensis Leaf Juice, Water, PEG-60 Alm...</td>\n",
       "      <td>63.0</td>\n",
       "      <td>10</td>\n",
       "    </tr>\n",
       "    <tr>\n",
       "      <th>2</th>\n",
       "      <td>Aesop Parsley Seed Anti-Oxidant Eye Serum 15ml</td>\n",
       "      <td>Aesop</td>\n",
       "      <td>https://www.lookfantastic.com/aesop-parsley-se...</td>\n",
       "      <td>Eye Care</td>\n",
       "      <td>Aloe Babedensis Lead Juice, Water (Aqua), PEG ...</td>\n",
       "      <td>57.0</td>\n",
       "      <td>15</td>\n",
       "    </tr>\n",
       "    <tr>\n",
       "      <th>3</th>\n",
       "      <td>Aesop Amazing Face Cleanser 200ml</td>\n",
       "      <td>Aesop</td>\n",
       "      <td>https://www.lookfantastic.com/aesop-amazing-fa...</td>\n",
       "      <td>Cleanser</td>\n",
       "      <td>Water, Cocamidopropyl Belaine, Sea Salt, Glyce...</td>\n",
       "      <td>35.0</td>\n",
       "      <td>200</td>\n",
       "    </tr>\n",
       "    <tr>\n",
       "      <th>4</th>\n",
       "      <td>Aesop Animal Body Wash 500ml</td>\n",
       "      <td>Aesop</td>\n",
       "      <td>https://www.lookfantastic.com/aesop-animal-bod...</td>\n",
       "      <td>Body Wash</td>\n",
       "      <td>Water (Aqua), Sodium Laureth Sulfate, Propylen...</td>\n",
       "      <td>27.0</td>\n",
       "      <td>500</td>\n",
       "    </tr>\n",
       "    <tr>\n",
       "      <th>...</th>\n",
       "      <td>...</td>\n",
       "      <td>...</td>\n",
       "      <td>...</td>\n",
       "      <td>...</td>\n",
       "      <td>...</td>\n",
       "      <td>...</td>\n",
       "      <td>...</td>\n",
       "    </tr>\n",
       "    <tr>\n",
       "      <th>1130</th>\n",
       "      <td>Zelens Triple Action Advanced Eye Cream</td>\n",
       "      <td>Zelens</td>\n",
       "      <td>https://www.lookfantastic.com/zelens-triple-ac...</td>\n",
       "      <td>Eye Care</td>\n",
       "      <td>Aqua (Water), Dimethicone, Cyclopentasiloxane,...</td>\n",
       "      <td>80.0</td>\n",
       "      <td>15</td>\n",
       "    </tr>\n",
       "    <tr>\n",
       "      <th>1131</th>\n",
       "      <td>Zelens Youth Concentrate Supreme Age-Defying S...</td>\n",
       "      <td>Zelens</td>\n",
       "      <td>https://www.lookfantastic.com/zelens-youth-con...</td>\n",
       "      <td>Serum</td>\n",
       "      <td>Water (Aqua), Caprylic/Capric Triglyceride, Hy...</td>\n",
       "      <td>160.0</td>\n",
       "      <td>30</td>\n",
       "    </tr>\n",
       "    <tr>\n",
       "      <th>1132</th>\n",
       "      <td>Zelens Z Hyaluron Hyaluronic Acid Complex Seru...</td>\n",
       "      <td>Zelens</td>\n",
       "      <td>https://www.lookfantastic.com/zelens-z-hyaluro...</td>\n",
       "      <td>Serum</td>\n",
       "      <td>Aqua (Water), Glycerin, Propanediol, Hydrolyze...</td>\n",
       "      <td>55.0</td>\n",
       "      <td>30</td>\n",
       "    </tr>\n",
       "    <tr>\n",
       "      <th>1133</th>\n",
       "      <td>Zelens PROVITAMIN D Fortifying Facial Mist 50ml</td>\n",
       "      <td>Zelens</td>\n",
       "      <td>https://www.lookfantastic.com/zelens-provitami...</td>\n",
       "      <td>Mist</td>\n",
       "      <td>Aqua (Water), Propanediol, Glycerin, Polyglyce...</td>\n",
       "      <td>55.0</td>\n",
       "      <td>50</td>\n",
       "    </tr>\n",
       "    <tr>\n",
       "      <th>1134</th>\n",
       "      <td>Zelens Z Balance Prebiotic and Probiotic Facia...</td>\n",
       "      <td>Zelens</td>\n",
       "      <td>https://www.lookfantastic.com/zelens-z-balance...</td>\n",
       "      <td>Mist</td>\n",
       "      <td>Aqua, Butylene Glycol, Sodium Lactate, Lactoba...</td>\n",
       "      <td>48.0</td>\n",
       "      <td>50</td>\n",
       "    </tr>\n",
       "  </tbody>\n",
       "</table>\n",
       "<p>1135 rows × 7 columns</p>\n",
       "</div>"
      ],
      "text/plain": [
       "                                           product_name     brand  \\\n",
       "0            Acorelle Pure Harvest Body Perfume - 100ml  Acorelle   \n",
       "1        Aesop Parsley Seed Anti-Oxidant Eye Cream 10ml     Aesop   \n",
       "2        Aesop Parsley Seed Anti-Oxidant Eye Serum 15ml     Aesop   \n",
       "3                     Aesop Amazing Face Cleanser 200ml     Aesop   \n",
       "4                          Aesop Animal Body Wash 500ml     Aesop   \n",
       "...                                                 ...       ...   \n",
       "1130            Zelens Triple Action Advanced Eye Cream    Zelens   \n",
       "1131  Zelens Youth Concentrate Supreme Age-Defying S...    Zelens   \n",
       "1132  Zelens Z Hyaluron Hyaluronic Acid Complex Seru...    Zelens   \n",
       "1133    Zelens PROVITAMIN D Fortifying Facial Mist 50ml    Zelens   \n",
       "1134  Zelens Z Balance Prebiotic and Probiotic Facia...    Zelens   \n",
       "\n",
       "                                            product_url product_type  \\\n",
       "0     https://www.lookfantastic.com/acorelle-pure-ha...         Mist   \n",
       "1     https://www.lookfantastic.com/aesop-parsley-se...     Eye Care   \n",
       "2     https://www.lookfantastic.com/aesop-parsley-se...     Eye Care   \n",
       "3     https://www.lookfantastic.com/aesop-amazing-fa...     Cleanser   \n",
       "4     https://www.lookfantastic.com/aesop-animal-bod...    Body Wash   \n",
       "...                                                 ...          ...   \n",
       "1130  https://www.lookfantastic.com/zelens-triple-ac...     Eye Care   \n",
       "1131  https://www.lookfantastic.com/zelens-youth-con...        Serum   \n",
       "1132  https://www.lookfantastic.com/zelens-z-hyaluro...        Serum   \n",
       "1133  https://www.lookfantastic.com/zelens-provitami...         Mist   \n",
       "1134  https://www.lookfantastic.com/zelens-z-balance...         Mist   \n",
       "\n",
       "                                            ingredients  price contents  \n",
       "0     Alcohol, Aqua, Glycerin, Fragrance, Limonene, ...   10.0      100  \n",
       "1     Aloe Barbadensis Leaf Juice, Water, PEG-60 Alm...   63.0       10  \n",
       "2     Aloe Babedensis Lead Juice, Water (Aqua), PEG ...   57.0       15  \n",
       "3     Water, Cocamidopropyl Belaine, Sea Salt, Glyce...   35.0      200  \n",
       "4     Water (Aqua), Sodium Laureth Sulfate, Propylen...   27.0      500  \n",
       "...                                                 ...    ...      ...  \n",
       "1130  Aqua (Water), Dimethicone, Cyclopentasiloxane,...   80.0       15  \n",
       "1131  Water (Aqua), Caprylic/Capric Triglyceride, Hy...  160.0       30  \n",
       "1132  Aqua (Water), Glycerin, Propanediol, Hydrolyze...   55.0       30  \n",
       "1133  Aqua (Water), Propanediol, Glycerin, Polyglyce...   55.0       50  \n",
       "1134  Aqua, Butylene Glycol, Sodium Lactate, Lactoba...   48.0       50  \n",
       "\n",
       "[1135 rows x 7 columns]"
      ]
     },
     "execution_count": 34,
     "metadata": {},
     "output_type": "execute_result"
    }
   ],
   "source": [
    "cosmetic['contents'] = cosmetic['contents'].str.replace('ml', '')\n",
    "cosmetic['contents'] = cosmetic['contents'].str.replace('g', '')\n",
    "cosmetic"
   ]
  },
  {
   "cell_type": "code",
   "execution_count": 35,
   "metadata": {},
   "outputs": [
    {
     "data": {
      "text/html": [
       "<div>\n",
       "<style scoped>\n",
       "    .dataframe tbody tr th:only-of-type {\n",
       "        vertical-align: middle;\n",
       "    }\n",
       "\n",
       "    .dataframe tbody tr th {\n",
       "        vertical-align: top;\n",
       "    }\n",
       "\n",
       "    .dataframe thead th {\n",
       "        text-align: right;\n",
       "    }\n",
       "</style>\n",
       "<table border=\"1\" class=\"dataframe\">\n",
       "  <thead>\n",
       "    <tr style=\"text-align: right;\">\n",
       "      <th></th>\n",
       "      <th>product_name</th>\n",
       "      <th>brand</th>\n",
       "      <th>product_url</th>\n",
       "      <th>product_type</th>\n",
       "      <th>ingredients</th>\n",
       "      <th>price</th>\n",
       "      <th>contents</th>\n",
       "    </tr>\n",
       "  </thead>\n",
       "  <tbody>\n",
       "    <tr>\n",
       "      <th>0</th>\n",
       "      <td>Acorelle Pure Harvest Body Perfume - 100ml</td>\n",
       "      <td>Acorelle</td>\n",
       "      <td>https://www.lookfantastic.com/acorelle-pure-ha...</td>\n",
       "      <td>Mist</td>\n",
       "      <td>Alcohol, Aqua, Glycerin, Fragrance, Limonene, ...</td>\n",
       "      <td>10.0</td>\n",
       "      <td>100.0</td>\n",
       "    </tr>\n",
       "    <tr>\n",
       "      <th>1</th>\n",
       "      <td>Aesop Parsley Seed Anti-Oxidant Eye Cream 10ml</td>\n",
       "      <td>Aesop</td>\n",
       "      <td>https://www.lookfantastic.com/aesop-parsley-se...</td>\n",
       "      <td>Eye Care</td>\n",
       "      <td>Aloe Barbadensis Leaf Juice, Water, PEG-60 Alm...</td>\n",
       "      <td>63.0</td>\n",
       "      <td>10.0</td>\n",
       "    </tr>\n",
       "    <tr>\n",
       "      <th>2</th>\n",
       "      <td>Aesop Parsley Seed Anti-Oxidant Eye Serum 15ml</td>\n",
       "      <td>Aesop</td>\n",
       "      <td>https://www.lookfantastic.com/aesop-parsley-se...</td>\n",
       "      <td>Eye Care</td>\n",
       "      <td>Aloe Babedensis Lead Juice, Water (Aqua), PEG ...</td>\n",
       "      <td>57.0</td>\n",
       "      <td>15.0</td>\n",
       "    </tr>\n",
       "    <tr>\n",
       "      <th>3</th>\n",
       "      <td>Aesop Amazing Face Cleanser 200ml</td>\n",
       "      <td>Aesop</td>\n",
       "      <td>https://www.lookfantastic.com/aesop-amazing-fa...</td>\n",
       "      <td>Cleanser</td>\n",
       "      <td>Water, Cocamidopropyl Belaine, Sea Salt, Glyce...</td>\n",
       "      <td>35.0</td>\n",
       "      <td>200.0</td>\n",
       "    </tr>\n",
       "    <tr>\n",
       "      <th>4</th>\n",
       "      <td>Aesop Animal Body Wash 500ml</td>\n",
       "      <td>Aesop</td>\n",
       "      <td>https://www.lookfantastic.com/aesop-animal-bod...</td>\n",
       "      <td>Body Wash</td>\n",
       "      <td>Water (Aqua), Sodium Laureth Sulfate, Propylen...</td>\n",
       "      <td>27.0</td>\n",
       "      <td>500.0</td>\n",
       "    </tr>\n",
       "    <tr>\n",
       "      <th>...</th>\n",
       "      <td>...</td>\n",
       "      <td>...</td>\n",
       "      <td>...</td>\n",
       "      <td>...</td>\n",
       "      <td>...</td>\n",
       "      <td>...</td>\n",
       "      <td>...</td>\n",
       "    </tr>\n",
       "    <tr>\n",
       "      <th>1130</th>\n",
       "      <td>Zelens Triple Action Advanced Eye Cream</td>\n",
       "      <td>Zelens</td>\n",
       "      <td>https://www.lookfantastic.com/zelens-triple-ac...</td>\n",
       "      <td>Eye Care</td>\n",
       "      <td>Aqua (Water), Dimethicone, Cyclopentasiloxane,...</td>\n",
       "      <td>80.0</td>\n",
       "      <td>15.0</td>\n",
       "    </tr>\n",
       "    <tr>\n",
       "      <th>1131</th>\n",
       "      <td>Zelens Youth Concentrate Supreme Age-Defying S...</td>\n",
       "      <td>Zelens</td>\n",
       "      <td>https://www.lookfantastic.com/zelens-youth-con...</td>\n",
       "      <td>Serum</td>\n",
       "      <td>Water (Aqua), Caprylic/Capric Triglyceride, Hy...</td>\n",
       "      <td>160.0</td>\n",
       "      <td>30.0</td>\n",
       "    </tr>\n",
       "    <tr>\n",
       "      <th>1132</th>\n",
       "      <td>Zelens Z Hyaluron Hyaluronic Acid Complex Seru...</td>\n",
       "      <td>Zelens</td>\n",
       "      <td>https://www.lookfantastic.com/zelens-z-hyaluro...</td>\n",
       "      <td>Serum</td>\n",
       "      <td>Aqua (Water), Glycerin, Propanediol, Hydrolyze...</td>\n",
       "      <td>55.0</td>\n",
       "      <td>30.0</td>\n",
       "    </tr>\n",
       "    <tr>\n",
       "      <th>1133</th>\n",
       "      <td>Zelens PROVITAMIN D Fortifying Facial Mist 50ml</td>\n",
       "      <td>Zelens</td>\n",
       "      <td>https://www.lookfantastic.com/zelens-provitami...</td>\n",
       "      <td>Mist</td>\n",
       "      <td>Aqua (Water), Propanediol, Glycerin, Polyglyce...</td>\n",
       "      <td>55.0</td>\n",
       "      <td>50.0</td>\n",
       "    </tr>\n",
       "    <tr>\n",
       "      <th>1134</th>\n",
       "      <td>Zelens Z Balance Prebiotic and Probiotic Facia...</td>\n",
       "      <td>Zelens</td>\n",
       "      <td>https://www.lookfantastic.com/zelens-z-balance...</td>\n",
       "      <td>Mist</td>\n",
       "      <td>Aqua, Butylene Glycol, Sodium Lactate, Lactoba...</td>\n",
       "      <td>48.0</td>\n",
       "      <td>50.0</td>\n",
       "    </tr>\n",
       "  </tbody>\n",
       "</table>\n",
       "<p>1135 rows × 7 columns</p>\n",
       "</div>"
      ],
      "text/plain": [
       "                                           product_name     brand  \\\n",
       "0            Acorelle Pure Harvest Body Perfume - 100ml  Acorelle   \n",
       "1        Aesop Parsley Seed Anti-Oxidant Eye Cream 10ml     Aesop   \n",
       "2        Aesop Parsley Seed Anti-Oxidant Eye Serum 15ml     Aesop   \n",
       "3                     Aesop Amazing Face Cleanser 200ml     Aesop   \n",
       "4                          Aesop Animal Body Wash 500ml     Aesop   \n",
       "...                                                 ...       ...   \n",
       "1130            Zelens Triple Action Advanced Eye Cream    Zelens   \n",
       "1131  Zelens Youth Concentrate Supreme Age-Defying S...    Zelens   \n",
       "1132  Zelens Z Hyaluron Hyaluronic Acid Complex Seru...    Zelens   \n",
       "1133    Zelens PROVITAMIN D Fortifying Facial Mist 50ml    Zelens   \n",
       "1134  Zelens Z Balance Prebiotic and Probiotic Facia...    Zelens   \n",
       "\n",
       "                                            product_url product_type  \\\n",
       "0     https://www.lookfantastic.com/acorelle-pure-ha...         Mist   \n",
       "1     https://www.lookfantastic.com/aesop-parsley-se...     Eye Care   \n",
       "2     https://www.lookfantastic.com/aesop-parsley-se...     Eye Care   \n",
       "3     https://www.lookfantastic.com/aesop-amazing-fa...     Cleanser   \n",
       "4     https://www.lookfantastic.com/aesop-animal-bod...    Body Wash   \n",
       "...                                                 ...          ...   \n",
       "1130  https://www.lookfantastic.com/zelens-triple-ac...     Eye Care   \n",
       "1131  https://www.lookfantastic.com/zelens-youth-con...        Serum   \n",
       "1132  https://www.lookfantastic.com/zelens-z-hyaluro...        Serum   \n",
       "1133  https://www.lookfantastic.com/zelens-provitami...         Mist   \n",
       "1134  https://www.lookfantastic.com/zelens-z-balance...         Mist   \n",
       "\n",
       "                                            ingredients  price  contents  \n",
       "0     Alcohol, Aqua, Glycerin, Fragrance, Limonene, ...   10.0     100.0  \n",
       "1     Aloe Barbadensis Leaf Juice, Water, PEG-60 Alm...   63.0      10.0  \n",
       "2     Aloe Babedensis Lead Juice, Water (Aqua), PEG ...   57.0      15.0  \n",
       "3     Water, Cocamidopropyl Belaine, Sea Salt, Glyce...   35.0     200.0  \n",
       "4     Water (Aqua), Sodium Laureth Sulfate, Propylen...   27.0     500.0  \n",
       "...                                                 ...    ...       ...  \n",
       "1130  Aqua (Water), Dimethicone, Cyclopentasiloxane,...   80.0      15.0  \n",
       "1131  Water (Aqua), Caprylic/Capric Triglyceride, Hy...  160.0      30.0  \n",
       "1132  Aqua (Water), Glycerin, Propanediol, Hydrolyze...   55.0      30.0  \n",
       "1133  Aqua (Water), Propanediol, Glycerin, Polyglyce...   55.0      50.0  \n",
       "1134  Aqua, Butylene Glycol, Sodium Lactate, Lactoba...   48.0      50.0  \n",
       "\n",
       "[1135 rows x 7 columns]"
      ]
     },
     "execution_count": 35,
     "metadata": {},
     "output_type": "execute_result"
    }
   ],
   "source": [
    "cosmetic['contents'] = cosmetic['contents'].astype(float)\n",
    "cosmetic['price'] = cosmetic['price'].astype(float)\n",
    "cosmetic"
   ]
  },
  {
   "cell_type": "code",
   "execution_count": 36,
   "metadata": {},
   "outputs": [
    {
     "data": {
      "text/plain": [
       "array(['Mist', 'Eye Care', 'Cleanser', 'Body Wash', 'Mask', 'Bath Salts',\n",
       "       'Peel', 'Toner', 'Balm', 'Moisturiser', 'Bath Oil', 'Oil', 'Serum',\n",
       "       'Exfoliator'], dtype=object)"
      ]
     },
     "execution_count": 36,
     "metadata": {},
     "output_type": "execute_result"
    }
   ],
   "source": [
    "cosmetic['product_type'].unique()"
   ]
  },
  {
   "cell_type": "code",
   "execution_count": 37,
   "metadata": {},
   "outputs": [
    {
     "name": "stdout",
     "output_type": "stream",
     "text": [
      "count    1135.000000\n",
      "mean       23.963419\n",
      "std        21.713618\n",
      "min         1.950000\n",
      "25%         9.950000\n",
      "50%        18.900000\n",
      "75%        31.250000\n",
      "max       230.000000\n",
      "Name: price, dtype: float64\n"
     ]
    }
   ],
   "source": [
    "print(cosmetic['price'].describe())"
   ]
  },
  {
   "cell_type": "code",
   "execution_count": 38,
   "metadata": {},
   "outputs": [
    {
     "data": {
      "text/plain": [
       "0    568\n",
       "1    567\n",
       "Name: price, dtype: int64"
      ]
     },
     "execution_count": 38,
     "metadata": {},
     "output_type": "execute_result"
    }
   ],
   "source": [
    "cosmetic['price'] = cosmetic[\"price\"].apply(lambda x: 1 if x > 18.90 else 0)\n",
    "cosmetic['price'].value_counts()"
   ]
  },
  {
   "cell_type": "code",
   "execution_count": 39,
   "metadata": {},
   "outputs": [
    {
     "data": {
      "text/plain": [
       "array([0, 1, 1, ..., 1, 1, 1], dtype=int64)"
      ]
     },
     "execution_count": 39,
     "metadata": {},
     "output_type": "execute_result"
    }
   ],
   "source": [
    "y = np.array(cosmetic['price'])\n",
    "y.shape\n",
    "y"
   ]
  },
  {
   "cell_type": "code",
   "execution_count": 40,
   "metadata": {},
   "outputs": [],
   "source": [
    "def tokenizer(x) -> list: \n",
    "    x = x.replace('(', '')\n",
    "    x = x.replace(')', '')\n",
    "    x = x.replace(\"\\xa0\", \" \")\n",
    "    x = x.replace(\".\", \",\")\n",
    "    x = x.replace(\" & \", \", \")\n",
    "    x = re.split(', ', x)\n",
    "    \n",
    "    return x"
   ]
  },
  {
   "cell_type": "code",
   "execution_count": 41,
   "metadata": {},
   "outputs": [
    {
     "data": {
      "text/plain": [
       "['Hello', '', 'Humans!']"
      ]
     },
     "execution_count": 41,
     "metadata": {},
     "output_type": "execute_result"
    }
   ],
   "source": [
    "tokenizer(\"(Hello.\\xa0 & Humans!\")"
   ]
  },
  {
   "cell_type": "code",
   "execution_count": 42,
   "metadata": {},
   "outputs": [],
   "source": [
    "ohe = OneHotEncoder()\n",
    "vect = CountVectorizer(tokenizer=lambda x: tokenizer(x))\n",
    "scaler = StandardScaler()"
   ]
  },
  {
   "cell_type": "code",
   "execution_count": 43,
   "metadata": {},
   "outputs": [],
   "source": [
    "X = cosmetic[['brand', 'product_type']]\n",
    "X\n",
    "\n",
    "Xtraining, Xtesting, ytraining, ytesting= train_test_split(X, y, \n",
    "                                                    test_size = 0.4, random_state=random_state, stratify=y)"
   ]
  },
  {
   "cell_type": "markdown",
   "metadata": {},
   "source": [
    "### LOGISTIC REGRESSION without ingredients and content"
   ]
  },
  {
   "cell_type": "code",
   "execution_count": 44,
   "metadata": {},
   "outputs": [],
   "source": [
    "columnT = make_column_transformer(\n",
    "    (ohe, [\"product_type\"]),\n",
    "    (vect, \"brand\"), \n",
    "    remainder=\"passthrough\")"
   ]
  },
  {
   "cell_type": "code",
   "execution_count": 45,
   "metadata": {},
   "outputs": [],
   "source": [
    "log = LogisticRegression(random_state=random_state, max_iter = 10000)\n",
    "logPipe = make_pipeline(columnT, log)"
   ]
  },
  {
   "cell_type": "code",
   "execution_count": 46,
   "metadata": {},
   "outputs": [],
   "source": [
    "logPipe.fit(Xtraining ,ytraining)\n",
    "logPredictions = logPipe.predict(Xtesting)"
   ]
  },
  {
   "cell_type": "code",
   "execution_count": 47,
   "metadata": {},
   "outputs": [
    {
     "data": {
      "text/plain": [
       "0.8303964757709251"
      ]
     },
     "execution_count": 47,
     "metadata": {},
     "output_type": "execute_result"
    }
   ],
   "source": [
    "accuracy_score(ytesting, logPredictions)"
   ]
  },
  {
   "cell_type": "code",
   "execution_count": 48,
   "metadata": {},
   "outputs": [
    {
     "data": {
      "text/plain": [
       "{'logisticregression__tol': 1e-05,\n",
       " 'logisticregression__solver': 'saga',\n",
       " 'logisticregression__C': 10}"
      ]
     },
     "execution_count": 48,
     "metadata": {},
     "output_type": "execute_result"
    }
   ],
   "source": [
    "solvers = ['newton-cg', 'lbfgs', 'liblinear', 'sag', 'saga']\n",
    "tols = [0.00001, 0.0001, 0.001, 0.01, 0.1, 1, 10, 100, 1000, 10000]\n",
    "Cs = [0.00001, 0.0001, 0.001, 0.01, 0.1, 1, 10, 100, 1000, 10000]\n",
    "param_grid = {'logisticregression__C': Cs, 'logisticregression__solver':solvers, 'logisticregression__tol':tols}\n",
    "logPipe = make_pipeline(columnT, log)\n",
    "lrgs = RandomizedSearchCV(estimator=logPipe, param_distributions=param_grid, random_state=random_state, scoring='accuracy', cv=10, refit=True)\n",
    "lrgs = lrgs.fit(Xtraining, ytraining)\n",
    "lrgs.best_params_"
   ]
  },
  {
   "cell_type": "code",
   "execution_count": 49,
   "metadata": {},
   "outputs": [
    {
     "data": {
      "text/plain": [
       "0.8414096916299559"
      ]
     },
     "execution_count": 49,
     "metadata": {},
     "output_type": "execute_result"
    }
   ],
   "source": [
    "bestregression = lrgs.best_estimator_ \n",
    "bestregression.score(Xtesting,ytesting)"
   ]
  },
  {
   "cell_type": "code",
   "execution_count": 50,
   "metadata": {},
   "outputs": [
    {
     "name": "stdout",
     "output_type": "stream",
     "text": [
      "[0.86956522 0.80882353 0.86764706 0.85294118 0.83823529 0.79411765\n",
      " 0.85294118 0.79411765 0.76470588 0.88235294]\n",
      "Accuracy = 0.83254476 +/- 0.03750473\n"
     ]
    }
   ],
   "source": [
    "scores = cross_val_score(estimator=bestregression, X=Xtraining, y=ytraining, cv=10, n_jobs=-1)\n",
    "print(scores)\n",
    "print('Accuracy = {:.8f} +/- {:.8f}'.format(np.mean(scores), np.std(scores)))"
   ]
  },
  {
   "cell_type": "markdown",
   "metadata": {},
   "source": [
    "### DECISION TREE with ingredients and content value"
   ]
  },
  {
   "cell_type": "code",
   "execution_count": 51,
   "metadata": {},
   "outputs": [
    {
     "data": {
      "text/plain": [
       "0.8215859030837004"
      ]
     },
     "execution_count": 51,
     "metadata": {},
     "output_type": "execute_result"
    }
   ],
   "source": [
    "from sklearn.tree import DecisionTreeClassifier\n",
    "\n",
    "decisionTree = DecisionTreeClassifier(random_state=random_state, criterion='entropy')\n",
    "\n",
    "columnT = make_column_transformer(\n",
    "    (ohe, [\"product_type\"]),\n",
    "    (vect, \"brand\"),\n",
    "    remainder=\"passthrough\")\n",
    "\n",
    "treepipe = make_pipeline(columnT, decisionTree)\n",
    "treepipe.fit(Xtraining, ytraining)\n",
    "treepredictions = treepipe.predict(Xtesting)\n",
    "accuracy_score(ytesting, treepredictions)"
   ]
  },
  {
   "cell_type": "code",
   "execution_count": 52,
   "metadata": {},
   "outputs": [
    {
     "name": "stdout",
     "output_type": "stream",
     "text": [
      "{'decisiontreeclassifier__min_samples_leaf': 2, 'decisiontreeclassifier__max_depth': 10000, 'decisiontreeclassifier__criterion': 'gini'}\n",
      "0.7995594713656388\n"
     ]
    }
   ],
   "source": [
    "criterions = ['gini', 'entropy']\n",
    "max_depths = [None, 10, 100, 1000, 10000]\n",
    "param_grid = {'decisiontreeclassifier__min_samples_leaf': np.arange(1,50), \n",
    "              'decisiontreeclassifier__max_depth': max_depths, \n",
    "              'decisiontreeclassifier__criterion':criterions}\n",
    "\n",
    "dtgs = RandomizedSearchCV(estimator=treepipe, param_distributions=param_grid, random_state=random_state, scoring='accuracy', cv=10, refit=True)\n",
    "dtgs = dtgs.fit(Xtraining, ytraining)\n",
    "print(dtgs.best_params_)\n",
    "besttree = dtgs.best_estimator_ \n",
    "print(besttree.score(Xtesting,ytesting))"
   ]
  },
  {
   "cell_type": "code",
   "execution_count": 53,
   "metadata": {},
   "outputs": [
    {
     "name": "stdout",
     "output_type": "stream",
     "text": [
      "[0.76811594 0.80882353 0.76470588 0.80882353 0.79411765 0.66176471\n",
      " 0.75       0.72058824 0.67647059 0.75      ]\n",
      "Accuracy = 0.75034101 +/- 0.04844292\n"
     ]
    }
   ],
   "source": [
    "scores = cross_val_score(estimator=besttree, X=Xtraining, y=ytraining, cv=10, n_jobs=-1)\n",
    "print(scores)\n",
    "print('Accuracy = {:.8f} +/- {:.8f}'.format(np.mean(scores), np.std(scores)))"
   ]
  },
  {
   "cell_type": "markdown",
   "metadata": {},
   "source": [
    "### RANDOM FOREST without Ingredient and content value"
   ]
  },
  {
   "cell_type": "code",
   "execution_count": 54,
   "metadata": {},
   "outputs": [],
   "source": [
    "from sklearn.ensemble import RandomForestClassifier\n",
    "randomForest = RandomForestClassifier(n_estimators = 1000, random_state = random_state)\n",
    "\n",
    "randompipe = make_pipeline(columnT, randomForest)"
   ]
  },
  {
   "cell_type": "code",
   "execution_count": 55,
   "metadata": {},
   "outputs": [
    {
     "data": {
      "text/plain": [
       "Pipeline(steps=[('columntransformer',\n",
       "                 ColumnTransformer(remainder='passthrough',\n",
       "                                   transformers=[('onehotencoder',\n",
       "                                                  OneHotEncoder(),\n",
       "                                                  ['product_type']),\n",
       "                                                 ('countvectorizer',\n",
       "                                                  CountVectorizer(tokenizer=<function <lambda> at 0x000001F69FE62E50>),\n",
       "                                                  'brand')])),\n",
       "                ('randomforestclassifier',\n",
       "                 RandomForestClassifier(n_estimators=1000, random_state=1))])"
      ]
     },
     "execution_count": 55,
     "metadata": {},
     "output_type": "execute_result"
    }
   ],
   "source": [
    "randompipe.fit(Xtraining, ytraining)"
   ]
  },
  {
   "cell_type": "code",
   "execution_count": 56,
   "metadata": {},
   "outputs": [],
   "source": [
    "randompred = randompipe.predict(Xtesting)"
   ]
  },
  {
   "cell_type": "code",
   "execution_count": 57,
   "metadata": {},
   "outputs": [
    {
     "data": {
      "text/plain": [
       "0.8348017621145375"
      ]
     },
     "execution_count": 57,
     "metadata": {},
     "output_type": "execute_result"
    }
   ],
   "source": [
    "accuracy_score(ytesting, randompred)"
   ]
  },
  {
   "cell_type": "code",
   "execution_count": 58,
   "metadata": {},
   "outputs": [
    {
     "name": "stdout",
     "output_type": "stream",
     "text": [
      "{'randomforestclassifier__min_samples_leaf': 2, 'randomforestclassifier__max_depth': 10000, 'randomforestclassifier__criterion': 'gini'}\n",
      "0.7775330396475771\n"
     ]
    }
   ],
   "source": [
    "criterions = ['gini', 'entropy']\n",
    "max_depths = [None, 10, 100, 1000, 10000]\n",
    "param_grid = {'randomforestclassifier__min_samples_leaf': np.arange(1,50), \n",
    "              'randomforestclassifier__max_depth': max_depths, \n",
    "              'randomforestclassifier__criterion':criterions}\n",
    "randomForest = RandomForestClassifier(n_estimators = 1000, random_state = random_state)\n",
    "randompipe = make_pipeline(columnT, randomForest)\n",
    "\n",
    "rfgs = RandomizedSearchCV(estimator=randompipe, param_distributions=param_grid, random_state=random_state, scoring='accuracy', cv=10, refit=True)\n",
    "rfgs = rfgs.fit(Xtraining,ytraining)\n",
    "print(rfgs.best_params_)\n",
    "bestforest = rfgs.best_estimator_ \n",
    "print(bestforest.score(Xtesting, ytesting))"
   ]
  },
  {
   "cell_type": "code",
   "execution_count": 59,
   "metadata": {},
   "outputs": [
    {
     "name": "stdout",
     "output_type": "stream",
     "text": [
      "[0.82608696 0.77941176 0.83823529 0.73529412 0.76470588 0.70588235\n",
      " 0.82352941 0.77941176 0.73529412 0.80882353]\n",
      "Accuracy = 0.77966752 +/- 0.04238528\n"
     ]
    }
   ],
   "source": [
    "scores = cross_val_score(estimator=bestforest, X=Xtraining, y=ytraining, cv=10, n_jobs=-1)\n",
    "print(scores)\n",
    "print('Accuracy = {:.8f} +/- {:.8f}'.format(np.mean(scores), np.std(scores)))"
   ]
  },
  {
   "cell_type": "markdown",
   "metadata": {},
   "source": [
    "### SUPPORT VECTOR MACHINE without ingredients or content value"
   ]
  },
  {
   "cell_type": "code",
   "execution_count": 60,
   "metadata": {},
   "outputs": [
    {
     "data": {
      "text/plain": [
       "Pipeline(steps=[('columntransformer',\n",
       "                 ColumnTransformer(remainder='passthrough',\n",
       "                                   transformers=[('onehotencoder',\n",
       "                                                  OneHotEncoder(),\n",
       "                                                  ['product_type']),\n",
       "                                                 ('countvectorizer',\n",
       "                                                  CountVectorizer(tokenizer=<function <lambda> at 0x000001F69FE62E50>),\n",
       "                                                  'brand')])),\n",
       "                ('svc', SVC(kernel='linear', random_state=1))])"
      ]
     },
     "execution_count": 60,
     "metadata": {},
     "output_type": "execute_result"
    }
   ],
   "source": [
    "from sklearn.svm import SVC\n",
    "svm = SVC(kernel='linear', random_state = random_state)\n",
    "\n",
    "svmPipe = make_pipeline(columnT, svm)\n",
    "svmPipe.fit(Xtraining, ytraining)"
   ]
  },
  {
   "cell_type": "code",
   "execution_count": 61,
   "metadata": {},
   "outputs": [
    {
     "data": {
      "text/plain": [
       "0.8502202643171806"
      ]
     },
     "execution_count": 61,
     "metadata": {},
     "output_type": "execute_result"
    }
   ],
   "source": [
    "svmPredictions = svmPipe.predict(Xtesting)\n",
    "accuracy_score(ytesting, svmPredictions)"
   ]
  },
  {
   "cell_type": "code",
   "execution_count": 62,
   "metadata": {},
   "outputs": [
    {
     "name": "stdout",
     "output_type": "stream",
     "text": [
      "{'svc__kernel': 'rbf', 'svc__gamma': 0.0001, 'svc__C': 10000}\n",
      "0.8458149779735683\n"
     ]
    }
   ],
   "source": [
    "svm = SVC(kernel='linear', random_state = random_state) \n",
    "columnT = make_column_transformer(\n",
    "    (ohe, [\"product_type\"]),\n",
    "    (vect, \"brand\"), \n",
    "    remainder=\"passthrough\")\n",
    "\n",
    "svmPipe = make_pipeline(columnT, svm)\n",
    "\n",
    "param_grid = [{'svc__C': [0.00001, 0.0001, 0.001, 0.01, 0.1, 1, 10, 100, 1000, 10000],\n",
    "               'svc__kernel': ['linear']},\n",
    "              {'svc__C': [0.00001, 0.0001, 0.001, 0.01, 0.1, 1, 10, 100, 1000, 10000],\n",
    "               'svc__gamma': [0.00001, 0.0001, 0.001, 0.01, 0.1, 1, 10, 100, 1000, 10000],\n",
    "               'svc__kernel': ['rbf']}]\n",
    "\n",
    "svmgs = RandomizedSearchCV(estimator=svmPipe, random_state = random_state, param_distributions=param_grid, scoring='accuracy', cv=10, refit=True)\n",
    "svmgs = svmgs.fit(Xtraining, ytraining)\n",
    "print(svmgs.best_params_)\n",
    "bestsvm = svmgs.best_estimator_ \n",
    "print(bestsvm.score(Xtesting, ytesting))"
   ]
  },
  {
   "cell_type": "code",
   "execution_count": 63,
   "metadata": {},
   "outputs": [
    {
     "name": "stdout",
     "output_type": "stream",
     "text": [
      "[0.86956522 0.76470588 0.85294118 0.85294118 0.83823529 0.79411765\n",
      " 0.86764706 0.77941176 0.70588235 0.82352941]\n",
      "Accuracy = 0.81489770 +/- 0.05037799\n"
     ]
    }
   ],
   "source": [
    "scores = cross_val_score(estimator=bestsvm, X=Xtraining, y=ytraining, cv=10, n_jobs=-1)\n",
    "print(scores)\n",
    "print('Accuracy = {:.8f} +/- {:.8f}'.format(np.mean(scores), np.std(scores)))"
   ]
  },
  {
   "cell_type": "markdown",
   "metadata": {},
   "source": [
    "### K- NEAREST NEIGHBOUR without ingredients and content value"
   ]
  },
  {
   "cell_type": "code",
   "execution_count": 64,
   "metadata": {},
   "outputs": [],
   "source": [
    "from sklearn.neighbors import KNeighborsClassifier as KNN\n",
    "knn = KNN()"
   ]
  },
  {
   "cell_type": "code",
   "execution_count": 65,
   "metadata": {},
   "outputs": [
    {
     "data": {
      "text/plain": [
       "0.737885462555066"
      ]
     },
     "execution_count": 65,
     "metadata": {},
     "output_type": "execute_result"
    }
   ],
   "source": [
    "columnT = make_column_transformer(\n",
    "    (ohe, [\"product_type\"]),\n",
    "    (vect, \"brand\"), \n",
    "    remainder=\"passthrough\")\n",
    "\n",
    "knnPipe = make_pipeline(columnT, knn)\n",
    "knnPipe.fit(Xtraining, ytraining)\n",
    "knnPredictions = knnPipe.predict(Xtesting)\n",
    "accuracy_score(ytesting, knnPredictions)"
   ]
  },
  {
   "cell_type": "code",
   "execution_count": 66,
   "metadata": {},
   "outputs": [
    {
     "name": "stdout",
     "output_type": "stream",
     "text": [
      "{'kneighborsclassifier__weights': 'distance', 'kneighborsclassifier__n_neighbors': 39}\n",
      "0.8370044052863436\n"
     ]
    }
   ],
   "source": [
    "knnPipe = make_pipeline(columnT, knn)\n",
    "param_grid = {'kneighborsclassifier__n_neighbors': np.arange(1,50), \n",
    "              'kneighborsclassifier__weights':['uniform', 'distance']}\n",
    "\n",
    "knngs = RandomizedSearchCV(estimator=knnPipe, param_distributions=param_grid, random_state=random_state, scoring='accuracy', cv=10, refit=True)\n",
    "knngs = knngs.fit(Xtraining, ytraining)\n",
    "print(knngs.best_params_)\n",
    "bestknn = knngs.best_estimator_ \n",
    "print(bestknn.score(Xtesting,ytesting))"
   ]
  },
  {
   "cell_type": "code",
   "execution_count": 67,
   "metadata": {},
   "outputs": [
    {
     "name": "stdout",
     "output_type": "stream",
     "text": [
      "[0.82608696 0.83823529 0.85294118 0.82352941 0.83823529 0.66176471\n",
      " 0.73529412 0.76470588 0.76470588 0.75      ]\n",
      "Accuracy = 0.78554987 +/- 0.05758467\n"
     ]
    }
   ],
   "source": [
    "scores = cross_val_score(estimator=bestknn, X=Xtraining, y=ytraining, cv=10, n_jobs=-1)\n",
    "print(scores)\n",
    "print('Accuracy = {:.8f} +/- {:.8f}'.format(np.mean(scores), np.std(scores)))"
   ]
  }
 ],
 "metadata": {
  "kernelspec": {
   "display_name": "Python 3.9.7 ('base')",
   "language": "python",
   "name": "python3"
  },
  "language_info": {
   "codemirror_mode": {
    "name": "ipython",
    "version": 3
   },
   "file_extension": ".py",
   "mimetype": "text/x-python",
   "name": "python",
   "nbconvert_exporter": "python",
   "pygments_lexer": "ipython3",
   "version": "3.9.7"
  },
  "orig_nbformat": 4,
  "vscode": {
   "interpreter": {
    "hash": "36a8c9aa085b824c0450c8dd01eb4766e0895c072e4363eeb658cdabd3de4458"
   }
  }
 },
 "nbformat": 4,
 "nbformat_minor": 2
}
